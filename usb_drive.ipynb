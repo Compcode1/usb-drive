{
 "cells": [
  {
   "cell_type": "markdown",
   "metadata": {},
   "source": [
    "#### **Introduction**\n",
    "\n",
    "You are part of the security team at Rhetorical Hospital and arrive to work one morning. On the ground of the parking lot, you find a USB stick with the hospital's logo printed on it. There’s no one else around who might have dropped it, so you decide to pick it up out of curiosity.\n",
    "\n",
    "You bring the USB drive back to your office where the team has virtualization software installed on a workstation. Virtualization software can be used for this very purpose because it’s one of the only ways to safely investigate an unfamiliar USB stick. The  software works by running a simulated instance of the computer on the same workstation. This simulation isn’t connected to other files or networks, so the USB drive can’t affect other systems if it happens to be infected with malicious software.\n",
    "\n",
    "You create a virtual environment and plug the USB drive into the workstation. The contents of the device appear to belong to Jorge Bailey, the human resource manager at Rhetorical Hospital. Jorge's drive contains a mix of personal and work-related files. For example, it contains folders that appear to store family and pet photos. There is also a new hire letter and an employee shift schedule.\n",
    "\n",
    "\n",
    "\n"
   ]
  },
  {
   "cell_type": "markdown",
   "metadata": {},
   "source": [
    "**Contents**\n",
    "The USB drive contains a mix of personal and work-related files, such as family and pet photos, a new hire letter, and an employee shift schedule. These files may include personally identifiable information (PII) and sensitive work details, such as employee names and schedules. Storing personal and work files together increases the risk of unauthorized access to sensitive data.\n",
    "\n",
    "**Attacker Mindset**\n",
    "An attacker could use the files on this USB drive to target Jorge, other employees, or the hospital itself. For example, they might leverage PII to craft phishing emails or manipulate employee schedules to gain access to secure areas. Additionally, the mix of personal and professional files could make it easier to identify and exploit relationships or access points in the organization.\n",
    "\n",
    "**Risk Analysis**\n",
    "USB baiting attacks could involve malware such as keyloggers, ransomware, or backdoors to infiltrate an organization’s network. If another employee had found and used this USB drive, the hospital's systems might have been compromised. To mitigate these risks, technical controls like disabling USB auto-run features and implementing endpoint security are critical. Operational controls, such as training employees to avoid using unknown USBs, and managerial policies requiring the encryption and separation of personal and professional files, can further reduce vulnerabilities."
   ]
  }
 ],
 "metadata": {
  "language_info": {
   "name": "python"
  }
 },
 "nbformat": 4,
 "nbformat_minor": 2
}
